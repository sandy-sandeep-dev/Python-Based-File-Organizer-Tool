{
  "nbformat": 4,
  "nbformat_minor": 0,
  "metadata": {
    "colab": {
      "provenance": [],
      "authorship_tag": "ABX9TyOOMoUNzGClemH3X1c+Y88Z",
      "include_colab_link": true
    },
    "kernelspec": {
      "name": "python3",
      "display_name": "Python 3"
    },
    "language_info": {
      "name": "python"
    }
  },
  "cells": [
    {
      "cell_type": "markdown",
      "metadata": {
        "id": "view-in-github",
        "colab_type": "text"
      },
      "source": [
        "<a href=\"https://colab.research.google.com/github/sandy-sandeep-dev/Python-Based-File-Organizer-Tool/blob/main/GKB_Labs_Python_Based_File_Organizer_Tool.ipynb\" target=\"_parent\"><img src=\"https://colab.research.google.com/assets/colab-badge.svg\" alt=\"Open In Colab\"/></a>"
      ]
    },
    {
      "cell_type": "code",
      "execution_count": 1,
      "metadata": {
        "colab": {
          "base_uri": "https://localhost:8080/"
        },
        "id": "YiP3urVJU87x",
        "outputId": "812196c3-af23-4d79-9b72-89f437b2692f"
      },
      "outputs": [
        {
          "output_type": "stream",
          "name": "stdout",
          "text": [
            "/content/GKB LAbs/content/GKB LAbs\n",
            "Moved: Test_Data_Dummy_CSV_README.docx -> Documents\n",
            "Moved: Video 2.mp4 -> Videos\n",
            "Moved: Flower.jpg -> Images\n",
            "Moved: file_example_DOCX_1MB.docx -> Documents\n",
            "Moved: Test_Data_Dummy_Multiple_README.docx -> Documents\n",
            "Moved: Video1.mp4 -> Videos\n",
            "Moved: Somalia Flood Exposure Methodology Note.pdf -> Documents/PDFs\n",
            "Moved: file_example_MP4_1920_18MG.mp4 -> Videos\n",
            "Moved: file_example_PNG_3MB.png -> Images\n",
            "Moved: RESPONSIBLE DATA SHARING WITH DONORS.pdf -> Documents/PDFs\n",
            "Moved: Bird.jpg -> Images\n",
            "Moved: Scenery.jpg -> Images\n",
            "Moved: file_example_CSV_284kb.csv -> Others\n",
            "Moved: Peacock Furr.jpg -> Images\n",
            "Organizer log saved as organizer_log.txt\n"
          ]
        }
      ],
      "source": [
        "import os\n",
        "import shutil\n",
        "from pathlib import Path\n",
        "\n",
        "# Set file types into categories\n",
        "FILE_TYPES = {\n",
        "    'Images': ['.jpg', '.jpeg', '.png', '.gif'],\n",
        "    'Videos': ['.mp4', '.mkv', '.mov'],\n",
        "    'Documents/PDFs': ['.pdf'],\n",
        "    'Documents': ['.txt', '.docx'],\n",
        "    'Others': []  # default if no match\n",
        "}\n",
        "\n",
        "# Make folders for each category if they don't exist\n",
        "def make_folders(base):\n",
        "    for name in FILE_TYPES:\n",
        "        (base / name).mkdir(parents=True, exist_ok=True)\n",
        "\n",
        "# Get folder name based on file extension\n",
        "def find_category(ext):\n",
        "    for cat, exts in FILE_TYPES.items():\n",
        "        if ext.lower() in exts:\n",
        "            return cat\n",
        "    return 'Others'\n",
        "\n",
        "# Main function to move files\n",
        "def organize(folder):\n",
        "    path = Path(folder)\n",
        "    if not path.exists() or not path.is_dir():\n",
        "        print(\"Invalid path.\")\n",
        "        return\n",
        "\n",
        "    make_folders(path)\n",
        "    log = []\n",
        "\n",
        "    for f in path.iterdir():\n",
        "        if f.is_file():\n",
        "            cat = find_category(f.suffix)\n",
        "            dest = path / cat / f.name\n",
        "            try:\n",
        "                shutil.move(str(f), str(dest))\n",
        "                print(f\"Moved: {f.name} -> {cat}\")\n",
        "                log.append(f\"{f.name} -> {cat}\")\n",
        "            except Exception as e:\n",
        "                print(f\"Failed to move {f.name}: {e}\")\n",
        "\n",
        "    # Save log file\n",
        "    with open(path / \"organizer_log.txt\", \"w\") as file:\n",
        "        file.write(\"\\n\".join(log))\n",
        "\n",
        "    print(\"Organizer log saved as organizer_log.txt\")\n",
        "\n",
        "# Run only when script is executed directly\n",
        "if __name__ == \"__main__\":\n",
        "    folder = input(\"/content/GKB LAbs\").strip() # Give the folder path\n",
        "    organize(folder)\n",
        "# Enter the same folder path while giving input in the output session"
      ]
    },
    {
      "cell_type": "code",
      "source": [],
      "metadata": {
        "id": "QveaJeNOXISS"
      },
      "execution_count": null,
      "outputs": []
    }
  ]
}